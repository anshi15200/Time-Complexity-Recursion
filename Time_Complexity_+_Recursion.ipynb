{
  "nbformat": 4,
  "nbformat_minor": 0,
  "metadata": {
    "colab": {
      "provenance": []
    },
    "kernelspec": {
      "name": "python3",
      "display_name": "Python 3"
    },
    "language_info": {
      "name": "python"
    }
  },
  "cells": [
    {
      "cell_type": "markdown",
      "source": [
        "**Find time complexity of below code blocks :**"
      ],
      "metadata": {
        "id": "H8RcoT7G85Ce"
      }
    },
    {
      "cell_type": "markdown",
      "source": [
        "Problem 1 :\n",
        "\n",
        "\n",
        "def quicksort(arr):\n",
        "\n",
        "    if len(arr) <= 1:\n",
        "\n",
        "        return arr\n",
        "\n",
        "    pivot = arr[len(arr) // 2]\n",
        "\n",
        "    left = [x for x in arr if x < pivot]\n",
        "\n",
        "    middle = [x for x in arr if x == pivot]\n",
        "\n",
        "    right = [x for x in arr if x > pivot]\n",
        "\n",
        "    return quicksort(left) + middle + quicksort(right"
      ],
      "metadata": {
        "id": "aVWiEYN79IM8"
      }
    },
    {
      "cell_type": "code",
      "source": [
        "###the time complexity of the provided quicksort implementation is O(nlogn)."
      ],
      "metadata": {
        "id": "jBWF60wsVhWZ"
      },
      "execution_count": 2,
      "outputs": []
    },
    {
      "cell_type": "markdown",
      "source": [
        "Problem 2 :\n",
        "\n",
        "\n",
        "def nested_loop_example(matrix):\n",
        "\n",
        "    rows, cols = len(matrix), len(matrix[0])\n",
        "\n",
        "    total = 0\n",
        "\n",
        "    for i in range(rows):\n",
        "\n",
        "        for j in range(cols):\n",
        "\n",
        "            total += matrix[i][j]\n",
        "\n",
        "    return total"
      ],
      "metadata": {
        "id": "oHB6GVaN9mkV"
      }
    },
    {
      "cell_type": "markdown",
      "source": [
        "the outer loop run m times and the inner loop runs n times therefore the total time complexity overall the loop is O(m*n)"
      ],
      "metadata": {
        "id": "7TdIe6tlVx5P"
      }
    },
    {
      "cell_type": "markdown",
      "source": [
        "Problem 3 :\n",
        "\n",
        "\n",
        "def example_function(arr):\n",
        "\n",
        "    result = 0\n",
        "\n",
        "    for element in arr:\n",
        "\n",
        "        result += element\n",
        "\n",
        "    return result"
      ],
      "metadata": {
        "id": "hzyqV859_TGr"
      }
    },
    {
      "cell_type": "markdown",
      "source": [
        "The loop runs n times as there is a simple loop thats why the overall time complexity is O(N)"
      ],
      "metadata": {
        "id": "h92XZvZtWfuc"
      }
    },
    {
      "cell_type": "markdown",
      "source": [
        "Problem 4\n",
        "def longest_increasing_subsequence(nums):\n",
        "\n",
        "    n = len(nums)\n",
        "\n",
        "    lis = [1] * n\n",
        "\n",
        "    for i in range(1, n):\n",
        "\n",
        "        for j in range(0, i):\n",
        "\n",
        "            if nums[i] > nums[j] and lis[i] < lis[j] + 1:\n",
        "\n",
        "                lis[i] = lis[j] + 1\n",
        "\n",
        "    return max(lis)"
      ],
      "metadata": {
        "id": "Q3MvXIZm_TKG"
      }
    },
    {
      "cell_type": "markdown",
      "source": [
        "The overall time complexity for the whole loop is o(n*2) where n is the length of input array."
      ],
      "metadata": {
        "id": "2UM0PtgYXfRz"
      }
    },
    {
      "cell_type": "markdown",
      "source": [
        "Problem 5 :\n",
        "\n",
        "def mysterious_function(arr):\n",
        "\n",
        "    n = len(arr)\n",
        "\n",
        "    result = 0\n",
        "\n",
        "    for i in range(n):\n",
        "\n",
        "        for j in range(i, n):\n",
        "\n",
        "            result += arr[i] * arr[j]\n",
        "\n",
        "    return result"
      ],
      "metadata": {
        "id": "_VSAXsMw_TOG"
      }
    },
    {
      "cell_type": "markdown",
      "source": [
        "The time complexity of the provided code is O(N*2) where n is the length of the input array"
      ],
      "metadata": {
        "id": "luTOV-AfYJ1E"
      }
    },
    {
      "cell_type": "markdown",
      "source": [
        "**Solve the following problems on recursion**"
      ],
      "metadata": {
        "id": "TeBftpvo_TRq"
      }
    },
    {
      "cell_type": "markdown",
      "source": [
        "Problem 6 : Sum of Digits\n",
        "\n",
        "\n",
        "Write a recursive function to calculate the sum of digits of a given positive integer"
      ],
      "metadata": {
        "id": "tTQfDHlt_1jQ"
      }
    },
    {
      "cell_type": "code",
      "source": [
        "def sum_of_digits(n):\n",
        "  if n<10:\n",
        "    return n\n",
        "  else:\n",
        "    return n%10 +sum_of_digits(n//10)\n",
        "\n",
        "n=12345\n",
        "sum_of_digits(12345)"
      ],
      "metadata": {
        "colab": {
          "base_uri": "https://localhost:8080/"
        },
        "id": "oIk6qIIO_0JP",
        "outputId": "d5da6220-d0f2-4050-87a8-c5162a271523"
      },
      "execution_count": null,
      "outputs": [
        {
          "output_type": "execute_result",
          "data": {
            "text/plain": [
              "15"
            ]
          },
          "metadata": {},
          "execution_count": 3
        }
      ]
    },
    {
      "cell_type": "markdown",
      "source": [
        "Problem 7: Fibonacci Series\n",
        "\n",
        "\n",
        "Write a recursive function to generate the first n numbers of the Fibonacci series"
      ],
      "metadata": {
        "id": "OseIQ5PcBROe"
      }
    },
    {
      "cell_type": "code",
      "source": [
        "def fibonacci(n):\n",
        "  if n<=1:\n",
        "    return n\n",
        "  else:\n",
        "    return fibonacci(n-1)+ fibonacci(n-2)\n",
        "n=10\n",
        "fibonacci_series=[fibonacci(i) for i in range(n)]\n",
        "print(fibonacci_series)"
      ],
      "metadata": {
        "colab": {
          "base_uri": "https://localhost:8080/"
        },
        "id": "aijCQzrCAQhR",
        "outputId": "2073e27b-167c-4e5e-e001-e9173c85bce6"
      },
      "execution_count": null,
      "outputs": [
        {
          "output_type": "stream",
          "name": "stdout",
          "text": [
            "[0, 1, 1, 2, 3, 5, 8, 13, 21, 34]\n"
          ]
        }
      ]
    },
    {
      "cell_type": "markdown",
      "source": [
        "Problem 8 : Subset Sum\n",
        "\n",
        "\n",
        "Given a set of positive integers and a target sum, write a recursive function to determine if there exists a subset\n",
        "of the integers that adds up to the target sum.\n",
        "\n",
        "\n",
        "subset_sum([3, 34, 4, 12, 5, 2], 9) -> True"
      ],
      "metadata": {
        "id": "1IkR4eK6CO3u"
      }
    },
    {
      "cell_type": "code",
      "source": [
        "def subset_sum(arr,target):\n",
        "  if target==0:\n",
        "    return True\n",
        "  if not arr or target<0:\n",
        "    return False\n",
        "## sum included current element\n",
        "  included_sum=subset_sum(arr[1:],target- arr[0])\n",
        "  ## sum excluded current element\n",
        "  excluded_sum=subset_sum(arr[1:],target)\n",
        "  return included_sum or excluded_sum\n",
        "arr = [3, 34, 4, 12, 5, 2]\n",
        "target_sum = 9\n",
        "result = subset_sum(arr, target_sum)\n",
        "\n",
        "print(f\"Does there exist a subset with sum {target_sum}? {result}\")"
      ],
      "metadata": {
        "colab": {
          "base_uri": "https://localhost:8080/"
        },
        "id": "KqBKFq-sBwaq",
        "outputId": "a0c70f90-e4e9-46ad-839b-1961c229d9aa"
      },
      "execution_count": null,
      "outputs": [
        {
          "output_type": "stream",
          "name": "stdout",
          "text": [
            "Does there exist a subset with sum 9? True\n"
          ]
        }
      ]
    },
    {
      "cell_type": "markdown",
      "source": [
        "Problem 9: Word Break\n",
        "\n",
        "\n",
        "Given a non-empty string and a dictionary of words, write a recursive function to determine if the string can be\n",
        "segmented into a space-separated sequence of dictionary words.\n",
        "\n",
        "\n",
        "word_break( leetcode , [ leet , code ]) -> True"
      ],
      "metadata": {
        "id": "PuhYeEYdFvO8"
      }
    },
    {
      "cell_type": "code",
      "source": [
        "def word_break(s, word_dict):\n",
        "    if not s:\n",
        "        return True  # Empty string is always valid\n",
        "\n",
        "    for word in word_dict:\n",
        "        if s.startswith(word):\n",
        "            # If the current word matches the beginning of the string, recursively check the remaining part\n",
        "            if word_break(s[len(word):], word_dict):\n",
        "                return True\n",
        "\n",
        "    return False\n",
        "\n",
        "# Example usage:\n",
        "input_string = \"leetcode\"\n",
        "dictionary = [\"leet\", \"code\"]\n",
        "\n",
        "result = word_break(input_string, dictionary)\n",
        "\n",
        "if result:\n",
        "    print(f'The string \"{input_string}\" can be segmented into a space-separated sequence of dictionary words.')\n",
        "else:\n",
        "    print(f'The string \"{input_string}\" cannot be segmented into a space-separated sequence of dictionary words.')\n"
      ],
      "metadata": {
        "id": "Insa-yf7FnXp",
        "colab": {
          "base_uri": "https://localhost:8080/"
        },
        "outputId": "55b8716c-a073-4924-871d-62af2df5d328"
      },
      "execution_count": 3,
      "outputs": [
        {
          "output_type": "stream",
          "name": "stdout",
          "text": [
            "The string \"leetcode\" can be segmented into a space-separated sequence of dictionary words.\n"
          ]
        }
      ]
    },
    {
      "cell_type": "markdown",
      "source": [
        "Problem 10 : N-Queens\n",
        "\n",
        "\n",
        "Implement a recursive function to solve the N Queens problem, where you have to place N queens on an N×N\n",
        "chessboard in such a way that no two queens threaten each other.\n",
        "\n",
        "\n"
      ],
      "metadata": {
        "id": "g2CYLQJQSjO-"
      }
    },
    {
      "cell_type": "code",
      "source": [
        "def is_safe(board, row, col, n):\n",
        "    # Check if there is a queen in the same column\n",
        "    for i in range(row):\n",
        "        if board[i][col] == 1:\n",
        "            return False\n",
        "\n",
        "    # Check if there is a queen in the upper diagonal on the left\n",
        "    for i, j in zip(range(row, -1, -1), range(col, -1, -1)):\n",
        "        if board[i][j] == 1:\n",
        "            return False\n",
        "\n",
        "    # Check if there is a queen in the upper diagonal on the right\n",
        "    for i, j in zip(range(row, -1, -1), range(col, n)):\n",
        "        if board[i][j] == 1:\n",
        "            return False\n",
        "\n",
        "    return True\n",
        "\n",
        "def solve_nqueens_util(board, row, n):\n",
        "    if row == n:\n",
        "        # All queens are placed, solution found\n",
        "        print_solution(board, n)\n",
        "        return\n",
        "\n",
        "    for col in range(n):\n",
        "        if is_safe(board, row, col, n):\n",
        "            board[row][col] = 1\n",
        "            solve_nqueens_util(board, row + 1, n)\n",
        "            board[row][col] = 0  # Backtrack\n",
        "\n",
        "def solve_nqueens(n):\n",
        "    # Initialize an empty chessboard\n",
        "    board = [[0 for _ in range(n)] for _ in range(n)]\n",
        "\n",
        "    solve_nqueens_util(board, 0, n)\n",
        "\n",
        "def print_solution(board, n):\n",
        "    for i in range(n):\n",
        "        for j in range(n):\n",
        "            print(board[i][j], end=\" \")\n",
        "        print()\n",
        "\n",
        "# Example usage:\n",
        "n = 4\n",
        "solve_nqueens(n)\n"
      ],
      "metadata": {
        "colab": {
          "base_uri": "https://localhost:8080/"
        },
        "id": "HYX96nXWSnt3",
        "outputId": "6f491ebf-5b7c-4819-f63c-925b6201bce9"
      },
      "execution_count": 4,
      "outputs": [
        {
          "output_type": "stream",
          "name": "stdout",
          "text": [
            "0 1 0 0 \n",
            "0 0 0 1 \n",
            "1 0 0 0 \n",
            "0 0 1 0 \n",
            "0 0 1 0 \n",
            "1 0 0 0 \n",
            "0 0 0 1 \n",
            "0 1 0 0 \n"
          ]
        }
      ]
    },
    {
      "cell_type": "code",
      "source": [],
      "metadata": {
        "id": "CVrCLUdRZgjJ"
      },
      "execution_count": null,
      "outputs": []
    }
  ]
}